{
 "cells": [
  {
   "cell_type": "code",
   "execution_count": 10,
   "metadata": {},
   "outputs": [
    {
     "data": {
      "text/plain": [
       "<torch._C.Generator at 0x1f731a406b0>"
      ]
     },
     "execution_count": 10,
     "metadata": {},
     "output_type": "execute_result"
    }
   ],
   "source": [
    "import torch\n",
    "import numpy as np\n",
    "from sklearn.preprocessing import LabelEncoder, OneHotEncoder\n",
    "from sklearn.model_selection import train_test_split\n",
    "import torch.nn as nn\n",
    "import torch.nn.functional as F\n",
    "import matplotlib.pyplot as plt\n",
    "from sklearn.model_selection import train_test_split\n",
    "\n",
    "seed = 0\n",
    "torch.random.manual_seed(seed)\n",
    "test_size = 0.4\n",
    "lr = 0.1"
   ]
  },
  {
   "cell_type": "code",
   "execution_count": 4,
   "metadata": {},
   "outputs": [
    {
     "name": "stdout",
     "output_type": "stream",
     "text": [
      "(307936, 784)\n",
      "(130283, 784)\n",
      "(123202, 784)\n"
     ]
    }
   ],
   "source": [
    "# LOAD DATA\n",
    "classes = ('banana', 'bowtie', 'cat')\n",
    "banana = np.load('data/banana.npy')\n",
    "bowtie = np.load('data/bowtie.npy')\n",
    "cat = np.load('data/cat.npy')\n",
    "print(banana.shape)\n",
    "print(bowtie.shape)\n",
    "print(cat.shape)"
   ]
  },
  {
   "cell_type": "code",
   "execution_count": 5,
   "metadata": {},
   "outputs": [],
   "source": [
    "# LABEL DATA\n",
    "banana = np.c_[banana, np.zeros(len(banana))]\n",
    "bowtie = np.c_[bowtie, np.ones(len(bowtie))]\n",
    "cat = np.c_[cat, 2*np.ones(len(cat))]"
   ]
  },
  {
   "cell_type": "code",
   "execution_count": 11,
   "metadata": {},
   "outputs": [
    {
     "data": {
      "image/png": "[encoded data removed]",
      "text/plain": [
       "<Figure size 360x72 with 6 Axes>"
      ]
     },
     "metadata": {
      "needs_background": "light"
     },
     "output_type": "display_data"
    },
    {
     "data": {
      "image/png": "[encoded data removed]",
      "text/plain": [
       "<Figure size 360x72 with 6 Axes>"
      ]
     },
     "metadata": {
      "needs_background": "light"
     },
     "output_type": "display_data"
    },
    {
     "data": {
      "image/png": "[encoded data removed]",
      "text/plain": [
       "<Figure size 360x72 with 6 Axes>"
      ]
     },
     "metadata": {
      "needs_background": "light"
     },
     "output_type": "display_data"
    }
   ],
   "source": [
    "# def plot_samples(input_array, rows=1, cols=5, title=''):\n",
    "#     fig, ax = plt.subplots(figsize=(cols,rows))\n",
    "#     ax.axis('off')\n",
    "#     plt.title(title)\n",
    "\n",
    "#     for i in list(range(0, min(len(input_array),(rows*cols)) )):      \n",
    "#         a = fig.add_subplot(rows,cols,i+1)\n",
    "#         imgplot = plt.imshow(input_array[i,:784].reshape((28,28)), cmap='gray_r', interpolation='nearest')\n",
    "#         plt.xticks([])\n",
    "#         plt.yticks([])\n",
    "        \n",
    "# # Plot arm samples\n",
    "# plot_samples(banana, title='Sample banana drawings\\n')\n",
    "# plot_samples(bowtie, title = 'Sample bowtie drawings\\n')\n",
    "# plot_samples(cat, title = 'Sample cat drawings\\n')\n"
   ]
  },
  {
   "cell_type": "code",
   "execution_count": null,
   "metadata": {},
   "outputs": [],
   "source": [
    "X = np.concatenate((banana[:100,:-1], bowtie[:100,:-1], cat[:100,:-1]), axis=0).astype('float32') # combine all data\n",
    "Y = np.concatenate((banana[:100,-1], bowtie[:100,-1], cat[:100,-1]), axis=0).astype('float32')# combine all labels\n",
    "X_train, X_valid, y_train, y_valid = train_test_split(X, y, test_size=test_size, random_state=seed)\n",
    "\n",
    "# DATA PREPROCESSING\n",
    "le = LabelEncoder()\n",
    "class_data = le.fit_transform(classes)\n",
    "oneh_encoder = OneHotEncoder()\n",
    "class_onehot = oneh_encoder.fit_transform(class_data.reshape(-1, 1)).toarray() #reshape because only one feature"
   ]
  },
  {
   "cell_type": "code",
   "execution_count": null,
   "metadata": {},
   "outputs": [],
   "source": [
    "net = Net()\n",
    "optimizer = torch.optim.SGD(net.parameters(),lr)\n",
    "trainLossRec = []\n",
    "validLossRec = []\n",
    "trainAccRec = []\n",
    "validAccRec = []\n",
    "nRec = []"
   ]
  }
 ],
 "metadata": {
  "kernelspec": {
   "display_name": "Python 3",
   "language": "python",
   "name": "python3"
  },
  "language_info": {
   "codemirror_mode": {
    "name": "ipython",
    "version": 3
   },
   "file_extension": ".py",
   "mimetype": "text/x-python",
   "name": "python",
   "nbconvert_exporter": "python",
   "pygments_lexer": "ipython3",
   "version": "3.8.5"
  }
 },
 "nbformat": 4,
 "nbformat_minor": 4
}
